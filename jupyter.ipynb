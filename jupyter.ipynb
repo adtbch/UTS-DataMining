{
 "cells": [
  {
   "cell_type": "code",
   "execution_count": 4,
   "id": "5b023dd2-d21f-4dba-8843-31c880df03cc",
   "metadata": {},
   "outputs": [],
   "source": [
    "import numpy as np\n",
    "import pandas as pd\n",
    "from matplotlib import pyplot as plt\n",
    "import seaborn as sns\n",
    "import warnings\n",
    "warnings.filterwarnings(\"ignore\")"
   ]
  },
  {
   "cell_type": "code",
   "execution_count": 20,
   "id": "06873eb6-fe5d-415b-b3cb-7afb0fd243ac",
   "metadata": {},
   "outputs": [
    {
     "data": {
      "text/html": [
       "<div>\n",
       "<style scoped>\n",
       "    .dataframe tbody tr th:only-of-type {\n",
       "        vertical-align: middle;\n",
       "    }\n",
       "\n",
       "    .dataframe tbody tr th {\n",
       "        vertical-align: top;\n",
       "    }\n",
       "\n",
       "    .dataframe thead th {\n",
       "        text-align: right;\n",
       "    }\n",
       "</style>\n",
       "<table border=\"1\" class=\"dataframe\">\n",
       "  <thead>\n",
       "    <tr style=\"text-align: right;\">\n",
       "      <th></th>\n",
       "      <th>InvoiceNo</th>\n",
       "      <th>StockCode</th>\n",
       "      <th>Description</th>\n",
       "      <th>Quantity</th>\n",
       "      <th>InvoiceDate</th>\n",
       "      <th>UnitPrice</th>\n",
       "      <th>CustomerID</th>\n",
       "      <th>Country</th>\n",
       "    </tr>\n",
       "  </thead>\n",
       "  <tbody>\n",
       "    <tr>\n",
       "      <th>0</th>\n",
       "      <td>536365</td>\n",
       "      <td>85123A</td>\n",
       "      <td>WHITE HANGING HEART T-LIGHT HOLDER</td>\n",
       "      <td>6</td>\n",
       "      <td>12/1/2010 8:26</td>\n",
       "      <td>2.55</td>\n",
       "      <td>17850.0</td>\n",
       "      <td>United Kingdom</td>\n",
       "    </tr>\n",
       "    <tr>\n",
       "      <th>1</th>\n",
       "      <td>536365</td>\n",
       "      <td>71053</td>\n",
       "      <td>WHITE METAL LANTERN</td>\n",
       "      <td>6</td>\n",
       "      <td>12/1/2010 8:26</td>\n",
       "      <td>3.39</td>\n",
       "      <td>17850.0</td>\n",
       "      <td>United Kingdom</td>\n",
       "    </tr>\n",
       "    <tr>\n",
       "      <th>2</th>\n",
       "      <td>536365</td>\n",
       "      <td>84406B</td>\n",
       "      <td>CREAM CUPID HEARTS COAT HANGER</td>\n",
       "      <td>8</td>\n",
       "      <td>12/1/2010 8:26</td>\n",
       "      <td>2.75</td>\n",
       "      <td>17850.0</td>\n",
       "      <td>United Kingdom</td>\n",
       "    </tr>\n",
       "    <tr>\n",
       "      <th>3</th>\n",
       "      <td>536365</td>\n",
       "      <td>84029G</td>\n",
       "      <td>KNITTED UNION FLAG HOT WATER BOTTLE</td>\n",
       "      <td>6</td>\n",
       "      <td>12/1/2010 8:26</td>\n",
       "      <td>3.39</td>\n",
       "      <td>17850.0</td>\n",
       "      <td>United Kingdom</td>\n",
       "    </tr>\n",
       "    <tr>\n",
       "      <th>4</th>\n",
       "      <td>536365</td>\n",
       "      <td>84029E</td>\n",
       "      <td>RED WOOLLY HOTTIE WHITE HEART.</td>\n",
       "      <td>6</td>\n",
       "      <td>12/1/2010 8:26</td>\n",
       "      <td>3.39</td>\n",
       "      <td>17850.0</td>\n",
       "      <td>United Kingdom</td>\n",
       "    </tr>\n",
       "    <tr>\n",
       "      <th>...</th>\n",
       "      <td>...</td>\n",
       "      <td>...</td>\n",
       "      <td>...</td>\n",
       "      <td>...</td>\n",
       "      <td>...</td>\n",
       "      <td>...</td>\n",
       "      <td>...</td>\n",
       "      <td>...</td>\n",
       "    </tr>\n",
       "    <tr>\n",
       "      <th>541904</th>\n",
       "      <td>581587</td>\n",
       "      <td>22613</td>\n",
       "      <td>PACK OF 20 SPACEBOY NAPKINS</td>\n",
       "      <td>12</td>\n",
       "      <td>12/9/2011 12:50</td>\n",
       "      <td>0.85</td>\n",
       "      <td>12680.0</td>\n",
       "      <td>France</td>\n",
       "    </tr>\n",
       "    <tr>\n",
       "      <th>541905</th>\n",
       "      <td>581587</td>\n",
       "      <td>22899</td>\n",
       "      <td>CHILDREN'S APRON DOLLY GIRL</td>\n",
       "      <td>6</td>\n",
       "      <td>12/9/2011 12:50</td>\n",
       "      <td>2.10</td>\n",
       "      <td>12680.0</td>\n",
       "      <td>France</td>\n",
       "    </tr>\n",
       "    <tr>\n",
       "      <th>541906</th>\n",
       "      <td>581587</td>\n",
       "      <td>23254</td>\n",
       "      <td>CHILDRENS CUTLERY DOLLY GIRL</td>\n",
       "      <td>4</td>\n",
       "      <td>12/9/2011 12:50</td>\n",
       "      <td>4.15</td>\n",
       "      <td>12680.0</td>\n",
       "      <td>France</td>\n",
       "    </tr>\n",
       "    <tr>\n",
       "      <th>541907</th>\n",
       "      <td>581587</td>\n",
       "      <td>23255</td>\n",
       "      <td>CHILDRENS CUTLERY CIRCUS PARADE</td>\n",
       "      <td>4</td>\n",
       "      <td>12/9/2011 12:50</td>\n",
       "      <td>4.15</td>\n",
       "      <td>12680.0</td>\n",
       "      <td>France</td>\n",
       "    </tr>\n",
       "    <tr>\n",
       "      <th>541908</th>\n",
       "      <td>581587</td>\n",
       "      <td>22138</td>\n",
       "      <td>BAKING SET 9 PIECE RETROSPOT</td>\n",
       "      <td>3</td>\n",
       "      <td>12/9/2011 12:50</td>\n",
       "      <td>4.95</td>\n",
       "      <td>12680.0</td>\n",
       "      <td>France</td>\n",
       "    </tr>\n",
       "  </tbody>\n",
       "</table>\n",
       "<p>541909 rows × 8 columns</p>\n",
       "</div>"
      ],
      "text/plain": [
       "       InvoiceNo StockCode                          Description  Quantity  \\\n",
       "0         536365    85123A   WHITE HANGING HEART T-LIGHT HOLDER         6   \n",
       "1         536365     71053                  WHITE METAL LANTERN         6   \n",
       "2         536365    84406B       CREAM CUPID HEARTS COAT HANGER         8   \n",
       "3         536365    84029G  KNITTED UNION FLAG HOT WATER BOTTLE         6   \n",
       "4         536365    84029E       RED WOOLLY HOTTIE WHITE HEART.         6   \n",
       "...          ...       ...                                  ...       ...   \n",
       "541904    581587     22613          PACK OF 20 SPACEBOY NAPKINS        12   \n",
       "541905    581587     22899         CHILDREN'S APRON DOLLY GIRL          6   \n",
       "541906    581587     23254        CHILDRENS CUTLERY DOLLY GIRL          4   \n",
       "541907    581587     23255      CHILDRENS CUTLERY CIRCUS PARADE         4   \n",
       "541908    581587     22138        BAKING SET 9 PIECE RETROSPOT          3   \n",
       "\n",
       "            InvoiceDate  UnitPrice  CustomerID         Country  \n",
       "0        12/1/2010 8:26       2.55     17850.0  United Kingdom  \n",
       "1        12/1/2010 8:26       3.39     17850.0  United Kingdom  \n",
       "2        12/1/2010 8:26       2.75     17850.0  United Kingdom  \n",
       "3        12/1/2010 8:26       3.39     17850.0  United Kingdom  \n",
       "4        12/1/2010 8:26       3.39     17850.0  United Kingdom  \n",
       "...                 ...        ...         ...             ...  \n",
       "541904  12/9/2011 12:50       0.85     12680.0          France  \n",
       "541905  12/9/2011 12:50       2.10     12680.0          France  \n",
       "541906  12/9/2011 12:50       4.15     12680.0          France  \n",
       "541907  12/9/2011 12:50       4.15     12680.0          France  \n",
       "541908  12/9/2011 12:50       4.95     12680.0          France  \n",
       "\n",
       "[541909 rows x 8 columns]"
      ]
     },
     "execution_count": 20,
     "metadata": {},
     "output_type": "execute_result"
    }
   ],
   "source": [
    "data = pd.read_csv('Online Retail-unclean.csv')\n",
    "data"
   ]
  },
  {
   "cell_type": "code",
   "execution_count": 6,
   "id": "e7e6c354-a63a-4065-b42a-c48081cb6346",
   "metadata": {},
   "outputs": [
    {
     "name": "stdout",
     "output_type": "stream",
     "text": [
      "InvoiceNo           0\n",
      "StockCode           0\n",
      "Description      1454\n",
      "Quantity            0\n",
      "InvoiceDate         0\n",
      "UnitPrice           5\n",
      "CustomerID     135086\n",
      "Country             8\n",
      "dtype: int64\n"
     ]
    }
   ],
   "source": [
    "missing_values = data.isnull().sum()\n",
    "print(missing_values)"
   ]
  },
  {
   "cell_type": "code",
   "execution_count": 7,
   "id": "29164ae1-6c94-4d0a-a8c2-4c5d7b8e5664",
   "metadata": {},
   "outputs": [
    {
     "name": "stdout",
     "output_type": "stream",
     "text": [
      "Description      1454\n",
      "UnitPrice           5\n",
      "CustomerID     135086\n",
      "Country             8\n",
      "dtype: int64\n"
     ]
    }
   ],
   "source": [
    "missing_columns = missing_values[missing_values > 0]\n",
    "print(missing_columns)"
   ]
  },
  {
   "cell_type": "code",
   "execution_count": 8,
   "id": "20b619f4-1712-4d0f-8f6f-5007037522e6",
   "metadata": {},
   "outputs": [
    {
     "name": "stdout",
     "output_type": "stream",
     "text": [
      "Kolom 'Description' memiliki 1454 nilai yang hilang.\n",
      "Kolom 'UnitPrice' memiliki 5 nilai yang hilang.\n",
      "Kolom 'CustomerID' memiliki 135086 nilai yang hilang.\n",
      "Kolom 'Country' memiliki 8 nilai yang hilang.\n"
     ]
    }
   ],
   "source": [
    "for column, missing_count in missing_columns.items():\n",
    "    print(f\"Kolom '{column}' memiliki {missing_count} nilai yang hilang.\")"
   ]
  },
  {
   "cell_type": "code",
   "execution_count": 9,
   "id": "dd228240-5972-4343-bd01-fd59255ec2e4",
   "metadata": {},
   "outputs": [
    {
     "name": "stdout",
     "output_type": "stream",
     "text": [
      "       InvoiceNo StockCode                          Description  Quantity  \\\n",
      "52281     540700     22244           3 HOOK HANGER MAGIC GARDEN        12   \n",
      "57298     541149     22449             SILK PURSE BABUSHKA PINK         6   \n",
      "57299     541149     22450             SILK PURSE BABUSHKA BLUE         6   \n",
      "119195    546533     84755  COLOUR GLASS T-LIGHT HOLDER HANGING        16   \n",
      "119196    546533     85116      BLACK CANDELABRA T-LIGHT HOLDER         6   \n",
      "232465    557322     22635     CHILDS BREAKFAST SET DOLLY GIRL          2   \n",
      "232490    557322     22729          ALARM CLOCK BAKELIKE ORANGE         4   \n",
      "232493    557322    84663A      GRASS HOPPER WOODEN WALL CLOCK          3   \n",
      "\n",
      "            InvoiceDate  UnitPrice  CustomerID Country  \n",
      "52281    1/11/2011 9:47       1.95     12393.0     NaN  \n",
      "57298   1/14/2011 11:36       2.95     12393.0     NaN  \n",
      "57299   1/14/2011 11:36       2.95     12393.0     NaN  \n",
      "119195  3/14/2011 13:53       0.65     15388.0     NaN  \n",
      "119196  3/14/2011 13:53       2.10     15388.0     NaN  \n",
      "232465   6/20/2011 9:04       9.95     17444.0     NaN  \n",
      "232490   6/20/2011 9:04       3.75     17444.0     NaN  \n",
      "232493   6/20/2011 9:04       5.95     17444.0     NaN  \n"
     ]
    }
   ],
   "source": [
    "missing_country_data = data[data['Country'].isnull()]\n",
    "print(missing_country_data)"
   ]
  },
  {
   "cell_type": "code",
   "execution_count": 8,
   "id": "7ba9b46b-6463-4c1f-994a-9e17186a5a96",
   "metadata": {},
   "outputs": [
    {
     "name": "stdout",
     "output_type": "stream",
     "text": [
      "       InvoiceNo StockCode                      Description  Quantity  \\\n",
      "205       536389     22726       ALARM CLOCK BAKELIKE GREEN         4   \n",
      "622       536414     22139                              NaN        56   \n",
      "1443      536544     21773  DECORATIVE ROSE BATHROOM BOTTLE         1   \n",
      "1444      536544     21774  DECORATIVE CATS BATHROOM BOTTLE         2   \n",
      "1445      536544     21786               POLKADOT RAIN HAT          4   \n",
      "...          ...       ...                              ...       ...   \n",
      "541536    581498    85099B          JUMBO BAG RED RETROSPOT         5   \n",
      "541537    581498    85099C   JUMBO  BAG BAROQUE BLACK WHITE         4   \n",
      "541538    581498     85150    LADIES & GENTLEMEN METAL SIGN         1   \n",
      "541539    581498     85174                S/4 CACTI CANDLES         1   \n",
      "541540    581498       DOT                   DOTCOM POSTAGE         1   \n",
      "\n",
      "            InvoiceDate  UnitPrice  CustomerID         Country  \n",
      "205     12/1/2010 10:03        NaN     12431.0       Australia  \n",
      "622     12/1/2010 11:52       0.00         NaN  United Kingdom  \n",
      "1443    12/1/2010 14:32       2.51         NaN  United Kingdom  \n",
      "1444    12/1/2010 14:32       2.51         NaN  United Kingdom  \n",
      "1445    12/1/2010 14:32       0.85         NaN  United Kingdom  \n",
      "...                 ...        ...         ...             ...  \n",
      "541536  12/9/2011 10:26       4.13         NaN  United Kingdom  \n",
      "541537  12/9/2011 10:26       4.13         NaN  United Kingdom  \n",
      "541538  12/9/2011 10:26       4.96         NaN  United Kingdom  \n",
      "541539  12/9/2011 10:26      10.79         NaN  United Kingdom  \n",
      "541540  12/9/2011 10:26    1714.17         NaN  United Kingdom  \n",
      "\n",
      "[135099 rows x 8 columns]\n"
     ]
    }
   ],
   "source": [
    "rows_with_missing_data = data[data.isnull().any(axis=1)]\n",
    "print(rows_with_missing_data)"
   ]
  },
  {
   "cell_type": "code",
   "execution_count": 13,
   "id": "8d45a3a2-df5f-439e-923b-4b97308ae9a9",
   "metadata": {},
   "outputs": [
    {
     "name": "stdout",
     "output_type": "stream",
     "text": [
      "               Country             MissingColumns\n",
      "205          Australia                [UnitPrice]\n",
      "622     United Kingdom  [Description, CustomerID]\n",
      "1443    United Kingdom               [CustomerID]\n",
      "1444    United Kingdom               [CustomerID]\n",
      "1445    United Kingdom               [CustomerID]\n",
      "...                ...                        ...\n",
      "541536  United Kingdom               [CustomerID]\n",
      "541537  United Kingdom               [CustomerID]\n",
      "541538  United Kingdom               [CustomerID]\n",
      "541539  United Kingdom               [CustomerID]\n",
      "541540  United Kingdom               [CustomerID]\n",
      "\n",
      "[135099 rows x 2 columns]\n"
     ]
    }
   ],
   "source": [
    "missing_details = rows_with_missing_data.apply(lambda row: row[row.isnull()].index.tolist(), axis=1)\n",
    "\n",
    "missing_summary = pd.DataFrame({\n",
    "    'Country': rows_with_missing_data['Country'],\n",
    "    'MissingColumns': missing_details\n",
    "})\n",
    "\n",
    "print(missing_summary)"
   ]
  },
  {
   "cell_type": "code",
   "execution_count": 10,
   "id": "5f041b37-7d0f-42cc-8b48-856043b7d750",
   "metadata": {
    "scrolled": true
   },
   "outputs": [
    {
     "name": "stdout",
     "output_type": "stream",
     "text": [
      "Negara yang ada missing data adalah 'Australia' jumlahnya 5\n",
      "Negara yang ada missing data adalah 'Bahrain' jumlahnya 2\n",
      "Negara yang ada missing data adalah 'Canada' jumlahnya 3\n",
      "Negara yang ada missing data adalah 'EIRE' jumlahnya 711\n",
      "Negara yang ada missing data adalah 'France' jumlahnya 66\n",
      "Negara yang ada missing data adalah 'Hong Kong' jumlahnya 288\n",
      "Negara yang ada missing data adalah 'Israel' jumlahnya 47\n",
      "Negara yang ada missing data adalah 'Portugal' jumlahnya 39\n",
      "Negara yang ada missing data adalah 'Singapore' jumlahnya 3\n",
      "Negara yang ada missing data adalah 'Switzerland' jumlahnya 125\n",
      "Negara yang ada missing data adalah 'United Kingdom' jumlahnya 135054\n",
      "Negara yang ada missing data adalah 'Unspecified' jumlahnya 202\n"
     ]
    }
   ],
   "source": [
    "missing_info = data[data.isnull().any(axis=1)]  \n",
    "missing_counts = missing_info.isnull().sum(axis=1)\n",
    "missing_info['MissingCount'] = missing_counts\n",
    "grouped_missing = missing_info.groupby('Country')['MissingCount'].sum()\n",
    "\n",
    "for country, count in grouped_missing.items():\n",
    "    print(f\"Negara yang ada missing data adalah '{country}' jumlahnya {count}\")"
   ]
  },
  {
   "cell_type": "code",
   "execution_count": 12,
   "id": "e208f31a-9d97-418d-a4e6-bbd4eeb7e0c4",
   "metadata": {},
   "outputs": [
    {
     "name": "stdout",
     "output_type": "stream",
     "text": [
      "  InvoiceNo StockCode                          Description  Quantity  \\\n",
      "0    536365    85123A   WHITE HANGING HEART T-LIGHT HOLDER         6   \n",
      "1    536365     71053                  WHITE METAL LANTERN         6   \n",
      "2    536365    84406B       CREAM CUPID HEARTS COAT HANGER         8   \n",
      "3    536365    84029G  KNITTED UNION FLAG HOT WATER BOTTLE         6   \n",
      "4    536365    84029E       RED WOOLLY HOTTIE WHITE HEART.         6   \n",
      "\n",
      "      InvoiceDate  UnitPrice  CustomerID         Country  \n",
      "0  12/1/2010 8:26       2.55     17850.0  United Kingdom  \n",
      "1  12/1/2010 8:26       3.39     17850.0  United Kingdom  \n",
      "2  12/1/2010 8:26       2.75     17850.0  United Kingdom  \n",
      "3  12/1/2010 8:26       3.39     17850.0  United Kingdom  \n",
      "4  12/1/2010 8:26       3.39     17850.0  United Kingdom  \n",
      "<class 'pandas.core.frame.DataFrame'>\n",
      "RangeIndex: 541909 entries, 0 to 541908\n",
      "Data columns (total 8 columns):\n",
      " #   Column       Non-Null Count   Dtype  \n",
      "---  ------       --------------   -----  \n",
      " 0   InvoiceNo    541909 non-null  object \n",
      " 1   StockCode    541909 non-null  object \n",
      " 2   Description  540455 non-null  object \n",
      " 3   Quantity     541909 non-null  int64  \n",
      " 4   InvoiceDate  541909 non-null  object \n",
      " 5   UnitPrice    541904 non-null  float64\n",
      " 6   CustomerID   406823 non-null  float64\n",
      " 7   Country      541901 non-null  object \n",
      "dtypes: float64(2), int64(1), object(5)\n",
      "memory usage: 33.1+ MB\n",
      "None\n",
      "            Quantity      UnitPrice     CustomerID\n",
      "count  541909.000000  541904.000000  406823.000000\n",
      "mean        9.552250       4.611096   15287.708588\n",
      "std       218.081158      96.760300    1713.598996\n",
      "min    -80995.000000  -11062.060000   12346.000000\n",
      "25%         1.000000       1.250000   13953.000000\n",
      "50%         3.000000       2.080000   15152.000000\n",
      "75%        10.000000       4.130000   16791.000000\n",
      "max     80995.000000   38970.000000   18287.000000\n"
     ]
    }
   ],
   "source": [
    "print(data.head())        # 5 baris pertama\n",
    "print(data.info())        # Informasi tipe data dan jumlah nilai non-null\n",
    "print(data.describe()) "
   ]
  },
  {
   "cell_type": "code",
   "execution_count": 14,
   "id": "fcf34598-b93c-48a0-bcb5-8cbfb555dad2",
   "metadata": {},
   "outputs": [],
   "source": [
    "# Hapus baris dengan nilai hilang di kolom Description\n",
    "data = data.dropna(subset=['Description'])\n",
    "\n",
    "# Isi nilai hilang di UnitPrice dengan rata-rata\n",
    "data['UnitPrice'].fillna(data['UnitPrice'].mean(), inplace=True)\n",
    "\n",
    "# Isi nilai hilang di CustomerID dengan 0\n",
    "data['CustomerID'].fillna(0, inplace=True)\n",
    "\n",
    "# Cari modus untuk kolom Country\n",
    "country_mode = data['Country'].mode()[0]\n",
    "\n",
    "# Isi nilai hilang di Country dengan modus\n",
    "data['Country'].fillna(country_mode, inplace=True)\n"
   ]
  },
  {
   "cell_type": "code",
   "execution_count": 15,
   "id": "ed00a963-4147-4765-8fac-fd87e79c46a6",
   "metadata": {},
   "outputs": [
    {
     "name": "stdout",
     "output_type": "stream",
     "text": [
      "InvoiceNo      0\n",
      "StockCode      0\n",
      "Description    0\n",
      "Quantity       0\n",
      "InvoiceDate    0\n",
      "UnitPrice      0\n",
      "CustomerID     0\n",
      "Country        0\n",
      "dtype: int64\n"
     ]
    }
   ],
   "source": [
    "# Periksa apakah masih ada nilai hilang\n",
    "print(data.isnull().sum())"
   ]
  },
  {
   "cell_type": "code",
   "execution_count": 16,
   "id": "520afe33-23ac-4fee-ba41-c8ece2ec7de2",
   "metadata": {},
   "outputs": [],
   "source": [
    "data.to_csv('cleaned_data.csv', index=False)"
   ]
  },
  {
   "cell_type": "code",
   "execution_count": 17,
   "id": "3621fb14-a431-4124-9526-a336d616b013",
   "metadata": {},
   "outputs": [
    {
     "name": "stdout",
     "output_type": "stream",
     "text": [
      "5268\n"
     ]
    }
   ],
   "source": [
    "print(data.duplicated().sum())"
   ]
  },
  {
   "cell_type": "code",
   "execution_count": 21,
   "id": "6a3e34fc-0526-4e1d-b308-8d156d2d23f1",
   "metadata": {},
   "outputs": [],
   "source": [
    "data['InvoiceDate'] = pd.to_datetime(data['InvoiceDate'])"
   ]
  },
  {
   "cell_type": "code",
   "execution_count": 22,
   "id": "d21ccc9b-cac8-44ba-ac3f-bfb20555d633",
   "metadata": {},
   "outputs": [],
   "source": [
    "data['Month'] = data['InvoiceDate'].dt.to_period('M')"
   ]
  },
  {
   "cell_type": "code",
   "execution_count": 23,
   "id": "724de31a-4805-4499-ba9f-62173764e4dd",
   "metadata": {},
   "outputs": [],
   "source": [
    "aggregated_data = data.groupby(['Country', 'Month'])['UnitPrice'].sum().reset_index()"
   ]
  },
  {
   "cell_type": "code",
   "execution_count": 24,
   "id": "f50a9641-0912-446d-9ddf-c6ad8da83d0a",
   "metadata": {},
   "outputs": [
    {
     "name": "stdout",
     "output_type": "stream",
     "text": [
      "         Country    Month  UnitPrice\n",
      "0      Australia  2010-12     138.26\n",
      "1      Australia  2011-01     325.54\n",
      "2      Australia  2011-02     273.63\n",
      "3      Australia  2011-03     372.57\n",
      "4      Australia  2011-04     396.55\n",
      "..           ...      ...        ...\n",
      "309  Unspecified  2011-06      42.10\n",
      "310  Unspecified  2011-07     627.05\n",
      "311  Unspecified  2011-08     146.51\n",
      "312  Unspecified  2011-09     108.43\n",
      "313  Unspecified  2011-11     116.10\n",
      "\n",
      "[314 rows x 3 columns]\n"
     ]
    }
   ],
   "source": [
    "print(aggregated_data)\n",
    "aggregated_data.to_csv('Aggregasi.csv', index=False)"
   ]
  },
  {
   "cell_type": "code",
   "execution_count": 25,
   "id": "15b6070c-4190-4f9b-906c-e0862088ccc2",
   "metadata": {},
   "outputs": [
    {
     "name": "stdout",
     "output_type": "stream",
     "text": [
      "                 Country  TotalData  Sample_alpha_0.03  Sample_alpha_0.01\n",
      "0         United Kingdom     495478                982              16641\n",
      "1                Germany       9495                982               9495\n",
      "2                 France       8557                982               8557\n",
      "3                   EIRE       8196                982               8196\n",
      "4                  Spain       2533                982               2533\n",
      "5            Netherlands       2371                982               2371\n",
      "6                Belgium       2069                982               2069\n",
      "7            Switzerland       2002                982               2002\n",
      "8               Portugal       1519                982               1519\n",
      "9              Australia       1256                982               1256\n",
      "10                Norway       1086                982               1086\n",
      "11                 Italy        803                803                803\n",
      "12       Channel Islands        758                758                758\n",
      "13               Finland        695                695                695\n",
      "14                Cyprus        622                622                622\n",
      "15                Sweden        462                462                462\n",
      "16           Unspecified        446                446                446\n",
      "17               Austria        401                401                401\n",
      "18               Denmark        389                389                389\n",
      "19                 Japan        358                358                358\n",
      "20                Poland        341                341                341\n",
      "21                Israel        297                297                297\n",
      "22                   USA        291                291                291\n",
      "23             Hong Kong        288                288                288\n",
      "24             Singapore        229                229                229\n",
      "25               Iceland        182                182                182\n",
      "26                Canada        146                146                146\n",
      "27                Greece        146                146                146\n",
      "28                 Malta        127                127                127\n",
      "29  United Arab Emirates         68                 68                 68\n",
      "30    European Community         61                 61                 61\n",
      "31                   RSA         58                 58                 58\n",
      "32               Lebanon         45                 45                 45\n",
      "33             Lithuania         35                 35                 35\n",
      "34                Brazil         32                 32                 32\n",
      "35        Czech Republic         30                 30                 30\n",
      "36               Bahrain         19                 19                 19\n",
      "37          Saudi Arabia         10                 10                 10\n"
     ]
    }
   ],
   "source": [
    "import math\n",
    "\n",
    "country_counts = data['Country'].value_counts().reset_index()\n",
    "country_counts.columns = ['Country', 'TotalData']\n",
    "\n",
    "def calculate_sample_size(total, alpha):\n",
    "    Z = {0.03: 1.88, 0.01: 2.58}[alpha]  \n",
    "    p = 0.5  \n",
    "    E = alpha  \n",
    "    n = (Z**2 * p * (1 - p)) / (E**2)\n",
    "    n = math.ceil(n)  \n",
    "    return min(total, n)  \n",
    "\n",
    "country_counts['Sample_alpha_0.03'] = country_counts['TotalData'].apply(lambda x: calculate_sample_size(x, 0.03))\n",
    "country_counts['Sample_alpha_0.01'] = country_counts['TotalData'].apply(lambda x: calculate_sample_size(x, 0.01))\n",
    "\n",
    "country_counts.to_csv('Sampling.csv', index=False)\n",
    "\n",
    "print(country_counts)"
   ]
  },
  {
   "cell_type": "code",
   "execution_count": null,
   "id": "43f0478e-a380-4a0e-8e19-13c193535193",
   "metadata": {},
   "outputs": [],
   "source": []
  }
 ],
 "metadata": {
  "kernelspec": {
   "display_name": "Python 3 (ipykernel)",
   "language": "python",
   "name": "python3"
  },
  "language_info": {
   "codemirror_mode": {
    "name": "ipython",
    "version": 3
   },
   "file_extension": ".py",
   "mimetype": "text/x-python",
   "name": "python",
   "nbconvert_exporter": "python",
   "pygments_lexer": "ipython3",
   "version": "3.12.4"
  }
 },
 "nbformat": 4,
 "nbformat_minor": 5
}
